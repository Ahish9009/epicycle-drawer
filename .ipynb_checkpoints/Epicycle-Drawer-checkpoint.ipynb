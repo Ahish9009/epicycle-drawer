{
 "cells": [
  {
   "cell_type": "code",
   "execution_count": null,
   "metadata": {},
   "outputs": [],
   "source": [
    "import math, numpy as np\n",
    "import matplotlib.pyplot as plt\n",
    "%matplotlib notebook \n",
    "\n",
    "import sys\n",
    "sys.path.insert(1, '_helperFuncs')\n",
    "# self-written helper functions\n",
    "import fourier_funcs as ff\n",
    "import animation_funcs as af\n",
    "import drawing_funcs as df\n",
    "\n",
    "#for saving animations\n",
    "import matplotlib.animation as animation   \n",
    "Writer = animation.writers['ffmpeg']\n",
    "writer = Writer(metadata=dict(artist='Ahish'), bitrate=1800)"
   ]
  },
  {
   "cell_type": "code",
   "execution_count": null,
   "metadata": {},
   "outputs": [],
   "source": [
    "# settings\n",
    "sample_percent = 1 #percentage of original no. of points to be sampled\n",
    "save_anim = 0 #if animation is to be saved"
   ]
  },
  {
   "cell_type": "code",
   "execution_count": null,
   "metadata": {},
   "outputs": [],
   "source": [
    "# gets the drawing input\n",
    "df.drawingBoard().run()"
   ]
  },
  {
   "cell_type": "code",
   "execution_count": null,
   "metadata": {},
   "outputs": [],
   "source": [
    "# generate complex points sampled numpy array\n",
    "sampled_points = np.asarray(df.points_touched)[::int(1/sample_percent)]\n",
    "\n",
    "#calculates DFT\n",
    "N = len(sampled_points)\n",
    "points_fft = np.fft.fft(sampled_points, N)\n",
    "\n",
    "#calculates the inverse fourier to verify\n",
    "generated_function = ff.inv(points_fft, N)\n",
    "\n",
    "#gets real and imaginary part of inverse function\n",
    "real_pts = np.real(generated_function)\n",
    "imag_pts = np.imag(generated_function)"
   ]
  },
  {
   "cell_type": "code",
   "execution_count": null,
   "metadata": {},
   "outputs": [],
   "source": [
    "fig_dft_op = plt.figure(\"Output of 3D Sinusoidal Signal Generated\")\n",
    "plt.title(\"Output of Fourier Transform\")\n",
    "plt.plot(real_pts, imag_pts)\n",
    "plt.show()"
   ]
  },
  {
   "cell_type": "code",
   "execution_count": null,
   "metadata": {
    "scrolled": false
   },
   "outputs": [],
   "source": [
    "fig_gen_pts = plt.figure(\"Generated Points\")\n",
    "plt.scatter(real_pts, imag_pts, color='red')\n",
    "plt.title(\"Scatterplot of Output of Transform\")\n",
    "plt.show()"
   ]
  },
  {
   "cell_type": "code",
   "execution_count": null,
   "metadata": {},
   "outputs": [],
   "source": [
    "fig_cmp = plt.figure(\"Comparison of Generated Signal vs \\\n",
    "                     Original Drawing\", figsize=(9,5))\n",
    "\n",
    "plt.subplot(121)\n",
    "plt.scatter(real_pts, imag_pts, color='red')\n",
    "plt.title(\"Generated Points\")\n",
    "\n",
    "plt.subplot(122)\n",
    "plt.scatter(np.real(sampled_points), np.imag(sampled_points), color='blue')\n",
    "plt.title(\"Samples from Drawing\")\n",
    "\n",
    "plt.show()"
   ]
  },
  {
   "cell_type": "code",
   "execution_count": null,
   "metadata": {},
   "outputs": [],
   "source": [
    "# animation & drawing\n",
    "abs_fft = np.absolute(points_fft)/N\n",
    "phase_fft = np.angle(points_fft)\n",
    "n_circles = len(points_fft)"
   ]
  },
  {
   "cell_type": "code",
   "execution_count": null,
   "metadata": {
    "scrolled": false
   },
   "outputs": [],
   "source": [
    "# Epicycle Drawing Animation\n",
    "fig_epic = plt.figure(\"Epicyclic Drawing of Generated Function\")\n",
    "circles = af.get_init_vals(n_circles, abs_fft, phase_fft)\n",
    "ax = plt.axes()\n",
    "\n",
    "def init_epic():\n",
    "    \n",
    "    init_cs_pos = af.pos_at(0, abs_fft, phase_fft)\n",
    "    for i in range(n_circles):\n",
    "        if i:\n",
    "            circles[i].center = init_cs_pos[i]\n",
    "            ax.add_patch(circles[i])\n",
    "    \n",
    "    # for removing the scattered points after each frame\n",
    "    global dot_sc\n",
    "    global sc\n",
    "    \n",
    "    dot_sc = ax.scatter([x[0] for x in init_cs_pos[1:]], [x[1] for x in init_cs_pos[1:]], color='g')  \n",
    "    sc = ax.scatter(real_pts[0], imag_pts[0], lw=5, color='g')\n",
    "    \n",
    "    return circles\n",
    "\n",
    "def animate_epic(i):\n",
    "\n",
    "    new_cs_pos = af.pos_at(i, abs_fft, phase_fft)\n",
    "    for m in range(n_circles):\n",
    "        if m:\n",
    "            circles[m].center = new_cs_pos[m]\n",
    "\n",
    "    # plotting generated function\n",
    "    ax.plot(real_pts[:i+1], imag_pts[:i+1], color='r')\n",
    "    ax.axis(\"scaled\")\n",
    "\n",
    "    #removing & changing location of scattered points\n",
    "    global dot_sc\n",
    "    global sc\n",
    "\n",
    "    dot_sc.remove()\n",
    "    sc.remove()\n",
    "    dot_sc = ax.scatter(\n",
    "                [x[0] for x in new_cs_pos[1:]], \n",
    "                [x[1] for x in new_cs_pos[1:]], \n",
    "                color='black', lw=0.01, alpha=0.75\n",
    "                )\n",
    "    sc = ax.scatter(real_pts[i], imag_pts[i], lw=5, color='g')\n",
    "\n",
    "    #shows frame number\n",
    "    plt.title(\"t = \"+str(i))\n",
    "\n",
    "    return circles\n",
    "\n",
    "anim_epic = animation.FuncAnimation(\n",
    "                        fig_epic, animate_epic, \n",
    "                        init_func=init_epic, frames=N, \n",
    "                        interval=20, blit=True, repeat=False\n",
    "                        )\n",
    "\n",
    "plt.show()\n",
    "        \n",
    "        "
   ]
  },
  {
   "cell_type": "code",
   "execution_count": null,
   "metadata": {},
   "outputs": [],
   "source": [
    "# override\n",
    "# save_anim = 1\n",
    "\n",
    "if save_anim:\n",
    "    anim_epic.save(\"current.mp4\", writer=writer)   "
   ]
  },
  {
   "cell_type": "code",
   "execution_count": null,
   "metadata": {
    "scrolled": false
   },
   "outputs": [],
   "source": [
    "#3D animation\n",
    "\n",
    "from mpl_toolkits.mplot3d import Axes3D\n",
    "import mpl_toolkits.mplot3d.art3d as art3d\n",
    "\n",
    "fig_3d = plt.figure(\"3D Plot\", figsize=(10,5))\n",
    "ax_1 = fig_3d.add_subplot(131, projection='3d')\n",
    "ax_2 = fig_3d.add_subplot(132, projection='3d')\n",
    "ax_3 = fig_3d.add_subplot(133, projection='3d')\n",
    "\n",
    "#first subplot\n",
    "ax_1.view_init(8,-55)\n",
    "ax_1.set_xlabel('t')\n",
    "ax_1.set_ylim3d([0, 600])\n",
    "ax_1.set_ylabel('X')\n",
    "ax_1.set_zlim3d([0, 600])\n",
    "ax_1.set_zlabel('Y')\n",
    "ax_1.invert_xaxis()\n",
    "ax_1.title.set_text(\"3D-View\")\n",
    "\n",
    "#second subplot\n",
    "ax_2.view_init(0, 0)\n",
    "ax_2.set_xlabel('t')\n",
    "ax_2.set_ylim3d([0, 600])\n",
    "ax_2.set_ylabel('X')\n",
    "ax_2.set_zlim3d([0, 600])\n",
    "ax_2.set_zlabel('Y')\n",
    "ax_2.invert_xaxis()\n",
    "ax_2.title.set_text(\"2D Projection\\nIgnoring time\")\n",
    "\n",
    "#third subplot\n",
    "ax_3.view_init(0,-90)\n",
    "ax_3.set_xlabel('t')\n",
    "ax_3.set_ylim3d([0, 600])\n",
    "ax_3.set_ylabel('X')\n",
    "ax_3.set_zlim3d([0, 600])\n",
    "ax_3.set_zlabel('Y')\n",
    "ax_3.invert_xaxis()\n",
    "ax_3.title.set_text(\"2D Projection\\nIgnoring Complex Part of DFT\")\n",
    "\n",
    "def animate_3d(curr_frame, circles1, circles2, circles3):\n",
    "    \n",
    "    new_cs_pos = af.pos_at(curr_frame, abs_fft, phase_fft)\n",
    "    for m, c1, c2, c3, new_c_pos in zip(range(1, n_circles), circles1, circles2, circles3, new_cs_pos[1:]):\n",
    "        \n",
    "        ym, zm = af.get_circle(abs_fft[m], new_c_pos)\n",
    "        c1.set_data_3d([curr_frame for k in range(len(ym))], ym, zm)\n",
    "        c2.set_data_3d([curr_frame for k in range(len(ym))], ym, zm)\n",
    "        c3.set_data_3d([curr_frame for k in range(len(ym))], ym, zm)\n",
    "    \n",
    "    ax_1.plot(range(curr_frame), real_pts[:curr_frame], imag_pts[:curr_frame], color='b')\n",
    "    ax_1.set_xlim3d([0.0, curr_frame])\n",
    "    \n",
    "    ax_2.plot(range(curr_frame), real_pts[:curr_frame], imag_pts[:curr_frame], color='b')\n",
    "    ax_2.set_xlim3d([0.0, curr_frame])\n",
    "    \n",
    "    ax_3.plot(range(curr_frame), real_pts[:curr_frame], imag_pts[:curr_frame], color='b')\n",
    "    ax_3.set_xlim3d([0.0, curr_frame])\n",
    "    \n",
    "    return circles1\n",
    "\n",
    "circles1 = []\n",
    "circles2 = []\n",
    "circles3 = []\n",
    "\n",
    "init_cs_pos = af.pos_at(0, abs_fft, phase_fft)\n",
    "for m in range(1, n_circles):\n",
    "    ym, zm = af.get_circle(abs_fft[m], init_cs_pos[m])\n",
    "    circles1 += ax_1.plot([0 for k in range(len(ym))], ym, zm, color='black', alpha = 0.7)\n",
    "    circles2 += ax_2.plot([0 for k in range(len(ym))], ym, zm, color='black', alpha = 0.4)\n",
    "    circles3 += ax_3.plot([0 for k in range(len(ym))], ym, zm, color='black')\n",
    "    \n",
    "anim_3d = animation.FuncAnimation(fig_3d, animate_3d, frames=N, fargs=(circles1, circles2, circles3), interval=20, blit=True, repeat=False)\n",
    "plt.show()"
   ]
  },
  {
   "cell_type": "code",
   "execution_count": null,
   "metadata": {},
   "outputs": [],
   "source": []
  },
  {
   "cell_type": "code",
   "execution_count": null,
   "metadata": {},
   "outputs": [],
   "source": [
    "# override\n",
    "# save_anim = 1\n",
    "\n",
    "if save_anim:\n",
    "    anim_3d.save(\"current-3D.mp4\", writer=writer)"
   ]
  },
  {
   "cell_type": "code",
   "execution_count": null,
   "metadata": {},
   "outputs": [],
   "source": []
  }
 ],
 "metadata": {
  "kernelspec": {
   "display_name": "py_36_env",
   "language": "python",
   "name": "py_36_env"
  },
  "language_info": {
   "codemirror_mode": {
    "name": "ipython",
    "version": 3
   },
   "file_extension": ".py",
   "mimetype": "text/x-python",
   "name": "python",
   "nbconvert_exporter": "python",
   "pygments_lexer": "ipython3",
   "version": "3.6.6"
  }
 },
 "nbformat": 4,
 "nbformat_minor": 2
}
